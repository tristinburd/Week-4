{
 "cells": [
  {
   "cell_type": "markdown",
   "metadata": {},
   "source": [
    "# The Battle of Neighborhoods Coursera Capstone\n",
    "## Business Problem to Solve\n",
    "\n",
    "\n",
    "### Data\n",
    "\n",
    "\n",
    "Based on the definition of our problem, the factors that influence the decision are:\n",
    "\n",
    "- The total number of crimes commited in each neighborhood\n",
    "- The most common venues of the selected neighborhood deemed the safest\n",
    "- The data sources below will be needed in order to extract the required information:\n",
    "\n",
    "https://www.kaggle.com/mrisdal/minneapolis-incidents-crime/data (This data set contains the crime and incident statistics of each neighborhood in Minneapolis.)\n",
    "\n",
    "\n",
    "### Foursquare API Data\n",
    "\n",
    "Foursquare is a location data provider with information about venues and events within an area. This will provide us with information that includes different venues. \n",
    "\n",
    "\n",
    "### Libraries\n",
    "\n",
    "The libraries in this project would consist of:\n",
    "\n",
    "- Pandas: For creating and manipulating dataframes.\n",
    "- Folium: Python visualization library would be used to visualize the neighborhoods cluster distribution of using interactive leaflet map.\n",
    "- Matplotlib: Python Plotting Module.\n",
    "- XML: To separate data from presentation and XML stores data in plain text format.\n",
    "- Scikit Learn: For importing k-means clustering.\n",
    "- JSON: Library to handle JSON files.\n",
    "- Geocoder: To retrieve Location Data.\n"
   ]
  },
  {
   "cell_type": "code",
   "execution_count": null,
   "metadata": {},
   "outputs": [],
   "source": []
  }
 ],
 "metadata": {
  "kernelspec": {
   "display_name": "Python 3",
   "language": "python",
   "name": "python3"
  },
  "language_info": {
   "codemirror_mode": {
    "name": "ipython",
    "version": 3
   },
   "file_extension": ".py",
   "mimetype": "text/x-python",
   "name": "python",
   "nbconvert_exporter": "python",
   "pygments_lexer": "ipython3",
   "version": "3.7.6"
  }
 },
 "nbformat": 4,
 "nbformat_minor": 4
}
