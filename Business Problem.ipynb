{
 "cells": [
  {
   "cell_type": "markdown",
   "metadata": {},
   "source": [
    "# The Battle of Neighborhoods Coursera Capstone\n",
    "## Business Problem to Solve\n",
    "\n",
    "### Introduction\n",
    "Minneapolis is the largest and most populous city in the state of Minnesota. as of 2019, there are an estimated 429,606 residents making in the 46th largest city in the United States and 8th largest in the Midewest. Minneapolis is also a neighbor to Saint Paul that make up what is called the \"Twin Cities\", with Minneapolis being larger. The Twin Cities metro area is also home to roughly 3.6 million people.\n",
    "\n",
    "The Twin Cities was ranked by Business Insider as the 6th best city to live in the United States. They have many amenities like museums, sports stadiuems, and metro transit with a \"Midwestern feel\". Local residents are also accustomed to the changing seasons with associated activities, such as ice fishing and cross country skiiing in the winter, music festivals and baseball games in the spring and summer, and the \"Great Minnesota Get Together\" at the Minnesota state fair towards the end of summer. Minneapolis and Saint Paul also have jobs available in science, manufacuring, agriculture, service sectors, and more. Some fortune 500 companies also have their headquaters based in the metro area. These would include comapnies like Target, Best Buy, 3M, Medtronic, Ecolab, Cargill, and United Health Group to just name a few.\n",
    "\n",
    "This is why more people are moving to the Twin Cities area.\n",
    "\n",
    "\n",
    "### Problem\n",
    "Since more people are moving to the Twin Cities area, its important for them to decide which neighborhood to live in. A key determining factor on selecting the right neighborhood is the saftey of the community. The saftey of the community depends on the level of crime for the various neighborhoods of Minneapolis.\n",
    "\n",
    "This project aims to identify the top three safest places to live in the city of Minneapolis. This will be determined based on the crime report statistics found in the Open Data Minneapolis data set found on Kaggle. This project will also reveal the most common venues of the three safest neighborhoods by clustering neighborhoods and using k-mean clustering.\n",
    "\n",
    "This report will be targeted people who are looking to relocate to the city of Minneapolis. In order to conclude a neighborhood to look for an appartment, saftey should be considered as a top priority when moving to a new place. You will not be able to enjoy your new apartment and the surrounding veues if you do not feel safe. The crime statistics in this report will provide an insight into this issue.\n",
    "\n",
    "### Foursquare API:\n",
    "This project would use Four-square API as a data gathering source. It has a database of millions of places which provides the ability to perform location search for different venues. \n"
   ]
  },
  {
   "cell_type": "code",
   "execution_count": null,
   "metadata": {},
   "outputs": [],
   "source": []
  }
 ],
 "metadata": {
  "kernelspec": {
   "display_name": "Python 3",
   "language": "python",
   "name": "python3"
  },
  "language_info": {
   "codemirror_mode": {
    "name": "ipython",
    "version": 3
   },
   "file_extension": ".py",
   "mimetype": "text/x-python",
   "name": "python",
   "nbconvert_exporter": "python",
   "pygments_lexer": "ipython3",
   "version": "3.7.6"
  }
 },
 "nbformat": 4,
 "nbformat_minor": 4
}
